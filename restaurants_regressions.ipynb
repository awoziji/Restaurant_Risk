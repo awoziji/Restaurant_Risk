{
 "cells": [
  {
   "cell_type": "code",
   "execution_count": 1,
   "metadata": {},
   "outputs": [],
   "source": [
    "import pandas as pd \n",
    "import numpy as np \n",
    "import os\n",
    "import matplotlib.pyplot as plt \n",
    "os.chdir('C:\\\\Users\\\\Sanata\\\\Dropbox\\\\01AA_Insight Projects\\\\Restaurants')\n",
    "pd.options.display.max_rows = 50"
   ]
  },
  {
   "cell_type": "code",
   "execution_count": 17,
   "metadata": {},
   "outputs": [],
   "source": [
    "final = pd.read_pickle('restaurant_final_data_2519')"
   ]
  },
  {
   "cell_type": "code",
   "execution_count": 18,
   "metadata": {},
   "outputs": [],
   "source": [
    "##ADD 500 buffer ### \n",
    "buffers = pd.read_csv('restaurants_buffer.csv', usecols = [1, 2, 3, 4 ])\n",
    "final = final.merge(buffers, on = ['bus_name', 'Building_ID_No'], how='left')\n",
    "final['subway500'] = None \n",
    "final.loc[final.n_subway_ent>0, 'subway500'] = 1\n",
    "final.loc[final.n_subway_ent==0, 'subway500'] = 0"
   ]
  },
  {
   "cell_type": "code",
   "execution_count": 3,
   "metadata": {},
   "outputs": [],
   "source": [
    "from sklearn.linear_model import LinearRegression\n",
    "from sklearn.model_selection import train_test_split\n",
    "from sklearn import preprocessing, metrics\n",
    "from sklearn.metrics.pairwise import cosine_similarity"
   ]
  },
  {
   "cell_type": "code",
   "execution_count": 19,
   "metadata": {},
   "outputs": [],
   "source": [
    "##Preprocessing \n",
    "dat = final[(final.is_chain==0)]\n",
    "\n",
    "#get vars \n",
    "Xvar = [#restaurant-level\n",
    "          'on_avenue', \n",
    "          'ztype__R', \n",
    "          'n_restaurants_500', \n",
    "          'subway500',\n",
    "          #block-level restaurant features \n",
    "          'nrest_by_block', \n",
    "          'chains_by_block', \n",
    "          'block_duration',  \n",
    "          'n_sales_250k', \n",
    "          'n_sales_500k', \n",
    "          'n_sales_1m',\n",
    "          #block-level census features \n",
    "          'med_block_income',\n",
    "          'total_block_pop', \n",
    "          'block_pop_dens', \n",
    "          'pct_white',  \n",
    "          'pct_hisp', \n",
    "          'pct_black', \n",
    "          'pct_25_34', \n",
    "          'BRONX', 'BROOKLYN', 'STATEN ISLAND', 'QUEENS']\n",
    "\n",
    "yvar = 'n_years_open'\n"
   ]
  },
  {
   "cell_type": "code",
   "execution_count": 20,
   "metadata": {
    "scrolled": false
   },
   "outputs": [
    {
     "name": "stderr",
     "output_type": "stream",
     "text": [
      "C:\\Users\\Sanata\\Anaconda3\\envs\\insight\\lib\\site-packages\\ipykernel_launcher.py:2: DataConversionWarning: Data with input dtype uint8, int64, float64 were all converted to float64 by the scale function.\n",
      "  \n"
     ]
    }
   ],
   "source": [
    "sub = dat[Xvar + [yvar]].dropna()\n",
    "df_scaled = pd.DataFrame( preprocessing.scale(sub), columns = sub.columns)\n",
    "mod_frame = df_scaled[Xvar]\n",
    "y = sub[yvar]"
   ]
  },
  {
   "cell_type": "code",
   "execution_count": 23,
   "metadata": {},
   "outputs": [],
   "source": [
    "#split the data \n",
    "X_train, X_test, y_train, y_test = train_test_split(mod_frame, y, test_size=0.25, random_state=0)\n"
   ]
  },
  {
   "cell_type": "markdown",
   "metadata": {},
   "source": [
    "Linear Regression"
   ]
  },
  {
   "cell_type": "code",
   "execution_count": 24,
   "metadata": {},
   "outputs": [
    {
     "data": {
      "text/plain": [
       "chains_by_block     -0.582256\n",
       "n_restaurants_500   -0.069044\n",
       "total_block_pop     -0.016719\n",
       "pct_25_34           -0.007572\n",
       "QUEENS              -0.007532\n",
       "med_block_income    -0.006344\n",
       "n_sales_500k        -0.003198\n",
       "on_avenue           -0.002569\n",
       "pct_hisp            -0.002252\n",
       "block_pop_dens      -0.000208\n",
       "pct_black            0.001783\n",
       "BROOKLYN             0.004309\n",
       "STATEN ISLAND        0.008049\n",
       "BRONX                0.009469\n",
       "n_sales_250k         0.009541\n",
       "subway500            0.020765\n",
       "pct_white            0.022549\n",
       "ztype__R             0.045176\n",
       "n_sales_1m           0.063044\n",
       "nrest_by_block       0.469032\n",
       "block_duration       0.515225\n",
       "dtype: float64"
      ]
     },
     "execution_count": 24,
     "metadata": {},
     "output_type": "execute_result"
    }
   ],
   "source": [
    "#fit model \n",
    "lr = LinearRegression().fit(X_train, y_train)\n",
    "#get coefficients \n",
    "lr_coefs = pd.Series(lr.coef_, index = X_train.columns).sort_values()\n",
    "lr_coefs"
   ]
  },
  {
   "cell_type": "code",
   "execution_count": 25,
   "metadata": {},
   "outputs": [
    {
     "name": "stdout",
     "output_type": "stream",
     "text": [
      "Training set score (R-squared): 0.12\n",
      "Test set score (R-squared): 0.09\n"
     ]
    }
   ],
   "source": [
    "#get accuracy \n",
    "train_acc = lr.score(X_train, y_train)\n",
    "test_acc = lr.score(X_test, y_test)\n",
    "print(\"Training set score (R-squared): {:.2f}\".format(train_acc))\n",
    "print(\"Test set score (R-squared): {:.2f}\".format(test_acc))\n"
   ]
  },
  {
   "cell_type": "code",
   "execution_count": 26,
   "metadata": {},
   "outputs": [
    {
     "name": "stdout",
     "output_type": "stream",
     "text": [
      "1.3296340252566308\n"
     ]
    }
   ],
   "source": [
    "#get y-hats \n",
    "y_pred_lr = lr.predict(X_test) #mean 2.74 years \n",
    "\n",
    "#get model error \n",
    "rmse_lr = np.sqrt(metrics.mean_squared_error(y_test, y_pred_lr))\n",
    "print(rmse_lr) "
   ]
  },
  {
   "cell_type": "code",
   "execution_count": 29,
   "metadata": {},
   "outputs": [],
   "source": [
    "keep = ['chains_by_block', 'n_restaurants_500', 'pct_25_34',\n",
    "        'pct_white',  'ztype__R','n_sales_1m', 'nrest_by_block', 'block_duration']\n",
    "labels = ['N chains', 'N Rest (500 ft)', 'Age 25-34', 'Prop White', 'Residential Zone',\n",
    "          '$1M Sales', 'N restaurants', 'Block rates']"
   ]
  },
  {
   "cell_type": "code",
   "execution_count": 30,
   "metadata": {},
   "outputs": [
    {
     "data": {
      "text/plain": [
       "Text(0.5, 0, 'Coefficient magnitude')"
      ]
     },
     "execution_count": 30,
     "metadata": {},
     "output_type": "execute_result"
    },
    {
     "data": {
      "image/png": "[encoded data removed]",
      "text/plain": [
       "<Figure size 432x288 with 1 Axes>"
      ]
     },
     "metadata": {
      "needs_background": "light"
     },
     "output_type": "display_data"
    }
   ],
   "source": [
    "y_pos = np.arange(lr_coefs[keep].shape[0])\n",
    "fig = plt.figure() \n",
    "ax = fig.add_subplot(111)\n",
    "ax.barh(np.arange(lr_coefs[keep].shape[0]),lr_coefs[keep].T)\n",
    "ax.set_yticks(y_pos)\n",
    "ax.set_xticks([-.5, -.4, -.3, -.2, -.1, 0, .1, .2, .3, 0.4, 0.5])\n",
    "ax.set_yticklabels(labels, fontsize=20)\n",
    "ax.set_xlabel(\"Coefficient magnitude\", fontsize=12)"
   ]
  },
  {
   "cell_type": "markdown",
   "metadata": {},
   "source": [
    "Random Forest "
   ]
  },
  {
   "cell_type": "code",
   "execution_count": 31,
   "metadata": {},
   "outputs": [
    {
     "data": {
      "text/plain": [
       "block_duration       0.803423\n",
       "chains_by_block      0.145310\n",
       "nrest_by_block       0.037799\n",
       "pct_white            0.002658\n",
       "n_sales_250k         0.002258\n",
       "pct_black            0.002105\n",
       "med_block_income     0.001105\n",
       "n_restaurants_500    0.000947\n",
       "total_block_pop      0.000923\n",
       "block_pop_dens       0.000909\n",
       "pct_hisp             0.000885\n",
       "n_sales_1m           0.000685\n",
       "pct_25_34            0.000581\n",
       "n_sales_500k         0.000337\n",
       "ztype__R             0.000059\n",
       "on_avenue            0.000015\n",
       "STATEN ISLAND        0.000000\n",
       "subway500            0.000000\n",
       "BRONX                0.000000\n",
       "BROOKLYN             0.000000\n",
       "QUEENS               0.000000\n",
       "dtype: float64"
      ]
     },
     "execution_count": 31,
     "metadata": {},
     "output_type": "execute_result"
    }
   ],
   "source": [
    "from sklearn.ensemble import RandomForestRegressor\n",
    "regr = RandomForestRegressor(max_depth=4, random_state=0,\n",
    "                              n_estimators=100)\n",
    "#fit model \n",
    "regr.fit(X_train, y_train)\n",
    "\n",
    "#get feature importances \n",
    "feat_imp = pd.Series(regr.feature_importances_, index = X_train.columns).sort_values(ascending=False)\n",
    "feat_imp\n"
   ]
  },
  {
   "cell_type": "code",
   "execution_count": 32,
   "metadata": {},
   "outputs": [
    {
     "name": "stdout",
     "output_type": "stream",
     "text": [
      "0.1642253570218194\n"
     ]
    }
   ],
   "source": [
    "#get R2\n",
    "R_2 = regr.score(X_test, y_test)\n",
    "print(R_2)"
   ]
  },
  {
   "cell_type": "code",
   "execution_count": 33,
   "metadata": {},
   "outputs": [
    {
     "name": "stdout",
     "output_type": "stream",
     "text": [
      "1.2741397161525916\n"
     ]
    }
   ],
   "source": [
    "#get RMSE \n",
    "y_pred_rf = pd.Series(regr.predict(X_test), index=y_test.index)\n",
    "print(np.sqrt(metrics.mean_squared_error(y_test, y_pred_rf))) \n"
   ]
  },
  {
   "cell_type": "code",
   "execution_count": 34,
   "metadata": {},
   "outputs": [
    {
     "data": {
      "text/plain": [
       "Text(0.5, 1.0, 'Predicted Duration Random Forest')"
      ]
     },
     "execution_count": 34,
     "metadata": {},
     "output_type": "execute_result"
    },
    {
     "data": {
      "image/png": "[encoded data removed]",
      "text/plain": [
       "<Figure size 432x288 with 1 Axes>"
      ]
     },
     "metadata": {
      "needs_background": "light"
     },
     "output_type": "display_data"
    }
   ],
   "source": [
    "plt.hist(y_pred_rf, bins=20)\n",
    "plt.title('Predicted Duration Random Forest', fontsize=20)\n"
   ]
  },
  {
   "cell_type": "markdown",
   "metadata": {},
   "source": [
    "## By Borough"
   ]
  },
  {
   "cell_type": "code",
   "execution_count": 35,
   "metadata": {},
   "outputs": [],
   "source": [
    "boro = ['MANHATTAN', 'BROOKLYN', 'BRONX', 'QUEENS', 'STATEN ISLAND']\n",
    "coefs = []\n",
    "rmse = []\n",
    "accuracy = []"
   ]
  },
  {
   "cell_type": "code",
   "execution_count": 36,
   "metadata": {},
   "outputs": [
    {
     "name": "stderr",
     "output_type": "stream",
     "text": [
      "C:\\Users\\Sanata\\Anaconda3\\envs\\insight\\lib\\site-packages\\ipykernel_launcher.py:9: DataConversionWarning: Data with input dtype uint8, int64, float64 were all converted to float64 by the scale function.\n",
      "  if __name__ == '__main__':\n",
      "C:\\Users\\Sanata\\Anaconda3\\envs\\insight\\lib\\site-packages\\ipykernel_launcher.py:9: DataConversionWarning: Data with input dtype uint8, int64, float64 were all converted to float64 by the scale function.\n",
      "  if __name__ == '__main__':\n",
      "C:\\Users\\Sanata\\Anaconda3\\envs\\insight\\lib\\site-packages\\ipykernel_launcher.py:9: DataConversionWarning: Data with input dtype uint8, int64, float64 were all converted to float64 by the scale function.\n",
      "  if __name__ == '__main__':\n",
      "C:\\Users\\Sanata\\Anaconda3\\envs\\insight\\lib\\site-packages\\ipykernel_launcher.py:9: DataConversionWarning: Data with input dtype uint8, int64, float64 were all converted to float64 by the scale function.\n",
      "  if __name__ == '__main__':\n",
      "C:\\Users\\Sanata\\Anaconda3\\envs\\insight\\lib\\site-packages\\ipykernel_launcher.py:9: DataConversionWarning: Data with input dtype uint8, int64, float64 were all converted to float64 by the scale function.\n",
      "  if __name__ == '__main__':\n"
     ]
    }
   ],
   "source": [
    "for i in range(len(boro)):\n",
    "    \n",
    "    #pre-process\n",
    "    dat = final[(final.is_chain==0)\n",
    "                & (final.Borough==boro[i])]\n",
    "    \n",
    "    yvar = 'n_years_open'\n",
    "    sub = dat[Xvar + [yvar]].dropna()\n",
    "    df_scaled = pd.DataFrame( preprocessing.scale(sub), columns = sub.columns)\n",
    "    mod_frame = df_scaled[Xvar]\n",
    "    y = sub[yvar]\n",
    "    #split the data \n",
    "    X_train, X_test, y_train, y_test = train_test_split(mod_frame, y, test_size=0.25, random_state=0)\n",
    "    \n",
    "    #fit model \n",
    "    lr = LinearRegression().fit(X_train, y_train)\n",
    "    \n",
    "    #get coefficients \n",
    "    lr_coefs = pd.Series(lr.coef_, index = X_train.columns).sort_values()\n",
    "    coefs.append(lr_coefs)\n",
    "    \n",
    "    #get accuracy \n",
    "    test_acc = lr.score(X_test, y_test)\n",
    "    accuracy.append(test_acc)\n",
    "    \n",
    "    #get model error \n",
    "    y_pred_lr = lr.predict(X_test)    \n",
    "    rmse_lr = np.sqrt(metrics.mean_squared_error(y_test, y_pred_lr))\n",
    "    rmse.append(rmse_lr)"
   ]
  },
  {
   "cell_type": "code",
   "execution_count": 37,
   "metadata": {},
   "outputs": [],
   "source": [
    "rmse_srs = pd.Series(rmse, index=boro)"
   ]
  },
  {
   "cell_type": "code",
   "execution_count": 38,
   "metadata": {},
   "outputs": [
    {
     "data": {
      "text/plain": [
       "MANHATTAN        1.392212\n",
       "BROOKLYN         1.314475\n",
       "BRONX            1.237334\n",
       "QUEENS           1.255154\n",
       "STATEN ISLAND    1.348598\n",
       "dtype: float64"
      ]
     },
     "execution_count": 38,
     "metadata": {},
     "output_type": "execute_result"
    }
   ],
   "source": [
    "rmse_srs"
   ]
  },
  {
   "cell_type": "markdown",
   "metadata": {},
   "source": [
    "The model did best in Queens, Bronx, and Brooklyn, worst in Manhattan, Staten Island. "
   ]
  },
  {
   "cell_type": "code",
   "execution_count": 39,
   "metadata": {},
   "outputs": [
    {
     "data": {
      "text/plain": [
       "MANHATTAN        0.064017\n",
       "BROOKLYN         0.164644\n",
       "BRONX            0.159224\n",
       "QUEENS           0.149818\n",
       "STATEN ISLAND    0.159782\n",
       "dtype: float64"
      ]
     },
     "execution_count": 39,
     "metadata": {},
     "output_type": "execute_result"
    }
   ],
   "source": [
    "accurac_srs = pd.Series(accuracy, index=boro)\n",
    "accurac_srs"
   ]
  },
  {
   "cell_type": "code",
   "execution_count": null,
   "metadata": {},
   "outputs": [],
   "source": []
  }
 ],
 "metadata": {
  "kernelspec": {
   "display_name": "Python 3",
   "language": "python",
   "name": "python3"
  },
  "language_info": {
   "codemirror_mode": {
    "name": "ipython",
    "version": 3
   },
   "file_extension": ".py",
   "mimetype": "text/x-python",
   "name": "python",
   "nbconvert_exporter": "python",
   "pygments_lexer": "ipython3",
   "version": "3.7.2"
  }
 },
 "nbformat": 4,
 "nbformat_minor": 2
}
