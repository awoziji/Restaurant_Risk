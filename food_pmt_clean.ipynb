{
 "cells": [
  {
   "cell_type": "code",
   "execution_count": 1,
   "metadata": {},
   "outputs": [],
   "source": [
    "import pandas as pd \n",
    "import numpy as np \n",
    "import os\n",
    "import matplotlib.pyplot as plt \n",
    "os.chdir('C:\\\\Users\\\\Sanata\\\\Dropbox\\\\01AA_Insight Projects\\\\Restaurants')\n",
    "pd.options.display.max_rows = 50"
   ]
  },
  {
   "cell_type": "code",
   "execution_count": 2,
   "metadata": {},
   "outputs": [
    {
     "name": "stderr",
     "output_type": "stream",
     "text": [
      "C:\\Users\\Sanata\\Anaconda3\\envs\\insight\\lib\\site-packages\\IPython\\core\\interactiveshell.py:3020: DtypeWarning: Columns (2,9,13,15,16,17,18,20,21) have mixed types. Specify dtype option on import or set low_memory=False.\n",
      "  interactivity=interactivity, compiler=compiler, result=result)\n"
     ]
    },
    {
     "data": {
      "text/html": [
       "<div>\n",
       "<style scoped>\n",
       "    .dataframe tbody tr th:only-of-type {\n",
       "        vertical-align: middle;\n",
       "    }\n",
       "\n",
       "    .dataframe tbody tr th {\n",
       "        vertical-align: top;\n",
       "    }\n",
       "\n",
       "    .dataframe thead th {\n",
       "        text-align: right;\n",
       "    }\n",
       "</style>\n",
       "<table border=\"1\" class=\"dataframe\">\n",
       "  <thead>\n",
       "    <tr style=\"text-align: right;\">\n",
       "      <th></th>\n",
       "      <th>Source</th>\n",
       "      <th>License_Permit_Holder</th>\n",
       "      <th>Business_Description</th>\n",
       "      <th>License/Permit_Number</th>\n",
       "      <th>Permit_Type_Description</th>\n",
       "      <th>Permit_Subtype_Description</th>\n",
       "      <th>Permit_Issuance_Date</th>\n",
       "      <th>Permit_Expiration_Date</th>\n",
       "      <th>Permit_Status_Date</th>\n",
       "      <th>Permit_Status_Description</th>\n",
       "      <th>...</th>\n",
       "      <th>City</th>\n",
       "      <th>Zip_Code</th>\n",
       "      <th>Borough</th>\n",
       "      <th>Building_ID_No</th>\n",
       "      <th>Borough_Block_Lot</th>\n",
       "      <th>Latitude_WGS84</th>\n",
       "      <th>Longitude_WGS84</th>\n",
       "      <th>License/Permit_Holder_Name</th>\n",
       "      <th>DOB_Skilled_Trades_Lic_Num</th>\n",
       "      <th>DOB_Skilled_Trades_Lic_Type</th>\n",
       "    </tr>\n",
       "  </thead>\n",
       "  <tbody>\n",
       "    <tr>\n",
       "      <th>0</th>\n",
       "      <td>DOHMH Permit</td>\n",
       "      <td>HOT JALAPENO RESTAURANT CORP.</td>\n",
       "      <td>NaN</td>\n",
       "      <td>1447631.0</td>\n",
       "      <td>FOOD SERVICE EST.</td>\n",
       "      <td>FOOD SERVICE ESTABL.</td>\n",
       "      <td>10/22/2012 00:00:00</td>\n",
       "      <td>10/31/2013 00:00:00</td>\n",
       "      <td>10/22/2012 00:00:00</td>\n",
       "      <td>NaN</td>\n",
       "      <td>...</td>\n",
       "      <td>NEW YORK</td>\n",
       "      <td>10029</td>\n",
       "      <td>MANHATTAN</td>\n",
       "      <td>1052570</td>\n",
       "      <td>1016660008</td>\n",
       "      <td>40.797814</td>\n",
       "      <td>-73.938961</td>\n",
       "      <td>MEJIA, JAMIE E.</td>\n",
       "      <td>NaN</td>\n",
       "      <td>NaN</td>\n",
       "    </tr>\n",
       "    <tr>\n",
       "      <th>1</th>\n",
       "      <td>DOHMH Permit</td>\n",
       "      <td>RIGHT TASTE RESTAURANT INC</td>\n",
       "      <td>NaN</td>\n",
       "      <td>1446867.0</td>\n",
       "      <td>FOOD SERVICE EST.</td>\n",
       "      <td>FOOD SERVICE ESTABL.</td>\n",
       "      <td>01/23/2013 00:00:00</td>\n",
       "      <td>10/31/2013 00:00:00</td>\n",
       "      <td>01/23/2013 00:00:00</td>\n",
       "      <td>NaN</td>\n",
       "      <td>...</td>\n",
       "      <td>BRONX</td>\n",
       "      <td>10466</td>\n",
       "      <td>BRONX</td>\n",
       "      <td>2064799</td>\n",
       "      <td>2048680052</td>\n",
       "      <td>40.891093</td>\n",
       "      <td>-73.850918</td>\n",
       "      <td>ERROL, SPENCER</td>\n",
       "      <td>NaN</td>\n",
       "      <td>NaN</td>\n",
       "    </tr>\n",
       "    <tr>\n",
       "      <th>2</th>\n",
       "      <td>DOHMH Permit</td>\n",
       "      <td>CHORSU CORP</td>\n",
       "      <td>NaN</td>\n",
       "      <td>1304742.0</td>\n",
       "      <td>FOOD SERVICE EST.</td>\n",
       "      <td>FOOD SERVICE ESTABL.</td>\n",
       "      <td>10/11/2012 00:00:00</td>\n",
       "      <td>11/30/2013 00:00:00</td>\n",
       "      <td>10/11/2012 00:00:00</td>\n",
       "      <td>NaN</td>\n",
       "      <td>...</td>\n",
       "      <td>BROOKLYN</td>\n",
       "      <td>11223</td>\n",
       "      <td>BROOKLYN</td>\n",
       "      <td>3177125</td>\n",
       "      <td>3066570053</td>\n",
       "      <td>40.604511</td>\n",
       "      <td>-73.972778</td>\n",
       "      <td>MAKHMUDOV, MUMIN</td>\n",
       "      <td>NaN</td>\n",
       "      <td>NaN</td>\n",
       "    </tr>\n",
       "    <tr>\n",
       "      <th>3</th>\n",
       "      <td>DOHMH Permit</td>\n",
       "      <td>561 SOUTHERN FOOD CORP.</td>\n",
       "      <td>NaN</td>\n",
       "      <td>1235037.0</td>\n",
       "      <td>FOOD SERVICE EST.</td>\n",
       "      <td>FOOD SERVICE ESTABL.</td>\n",
       "      <td>08/28/2012 00:00:00</td>\n",
       "      <td>08/31/2013 00:00:00</td>\n",
       "      <td>10/26/2012 00:00:00</td>\n",
       "      <td>NaN</td>\n",
       "      <td>...</td>\n",
       "      <td>BRONX</td>\n",
       "      <td>10455</td>\n",
       "      <td>BRONX</td>\n",
       "      <td>2088194</td>\n",
       "      <td>2026830045</td>\n",
       "      <td>40.812702</td>\n",
       "      <td>-73.903234</td>\n",
       "      <td>DELGADO-MORALES, MARDOMIO ROBERTO</td>\n",
       "      <td>NaN</td>\n",
       "      <td>NaN</td>\n",
       "    </tr>\n",
       "    <tr>\n",
       "      <th>4</th>\n",
       "      <td>DOHMH Permit</td>\n",
       "      <td>BBQ CHICKEN DON ALEX NO 1 CORP</td>\n",
       "      <td>NaN</td>\n",
       "      <td>1447036.0</td>\n",
       "      <td>FOOD SERVICE EST.</td>\n",
       "      <td>FOOD SERVICE ESTABL.</td>\n",
       "      <td>03/12/2013 00:00:00</td>\n",
       "      <td>10/31/2013 00:00:00</td>\n",
       "      <td>03/11/2013 00:00:00</td>\n",
       "      <td>NaN</td>\n",
       "      <td>...</td>\n",
       "      <td>LONG ISLAND CITY</td>\n",
       "      <td>11101</td>\n",
       "      <td>QUEENS</td>\n",
       "      <td>4036228</td>\n",
       "      <td>4014720001</td>\n",
       "      <td>40.749762</td>\n",
       "      <td>-73.881945</td>\n",
       "      <td>DIAVIM, M. OSORES</td>\n",
       "      <td>NaN</td>\n",
       "      <td>NaN</td>\n",
       "    </tr>\n",
       "  </tbody>\n",
       "</table>\n",
       "<p>5 rows × 22 columns</p>\n",
       "</div>"
      ],
      "text/plain": [
       "         Source           License_Permit_Holder Business_Description  \\\n",
       "0  DOHMH Permit   HOT JALAPENO RESTAURANT CORP.                  NaN   \n",
       "1  DOHMH Permit      RIGHT TASTE RESTAURANT INC                  NaN   \n",
       "2  DOHMH Permit                     CHORSU CORP                  NaN   \n",
       "3  DOHMH Permit         561 SOUTHERN FOOD CORP.                  NaN   \n",
       "4  DOHMH Permit  BBQ CHICKEN DON ALEX NO 1 CORP                  NaN   \n",
       "\n",
       "   License/Permit_Number Permit_Type_Description Permit_Subtype_Description  \\\n",
       "0              1447631.0       FOOD SERVICE EST.       FOOD SERVICE ESTABL.   \n",
       "1              1446867.0       FOOD SERVICE EST.       FOOD SERVICE ESTABL.   \n",
       "2              1304742.0       FOOD SERVICE EST.       FOOD SERVICE ESTABL.   \n",
       "3              1235037.0       FOOD SERVICE EST.       FOOD SERVICE ESTABL.   \n",
       "4              1447036.0       FOOD SERVICE EST.       FOOD SERVICE ESTABL.   \n",
       "\n",
       "  Permit_Issuance_Date Permit_Expiration_Date   Permit_Status_Date  \\\n",
       "0  10/22/2012 00:00:00    10/31/2013 00:00:00  10/22/2012 00:00:00   \n",
       "1  01/23/2013 00:00:00    10/31/2013 00:00:00  01/23/2013 00:00:00   \n",
       "2  10/11/2012 00:00:00    11/30/2013 00:00:00  10/11/2012 00:00:00   \n",
       "3  08/28/2012 00:00:00    08/31/2013 00:00:00  10/26/2012 00:00:00   \n",
       "4  03/12/2013 00:00:00    10/31/2013 00:00:00  03/11/2013 00:00:00   \n",
       "\n",
       "  Permit_Status_Description  ...              City Zip_Code    Borough  \\\n",
       "0                       NaN  ...          NEW YORK    10029  MANHATTAN   \n",
       "1                       NaN  ...             BRONX    10466      BRONX   \n",
       "2                       NaN  ...          BROOKLYN    11223   BROOKLYN   \n",
       "3                       NaN  ...             BRONX    10455      BRONX   \n",
       "4                       NaN  ...  LONG ISLAND CITY    11101     QUEENS   \n",
       "\n",
       "  Building_ID_No Borough_Block_Lot Latitude_WGS84 Longitude_WGS84  \\\n",
       "0        1052570        1016660008      40.797814      -73.938961   \n",
       "1        2064799        2048680052      40.891093      -73.850918   \n",
       "2        3177125        3066570053      40.604511      -73.972778   \n",
       "3        2088194        2026830045      40.812702      -73.903234   \n",
       "4        4036228        4014720001      40.749762      -73.881945   \n",
       "\n",
       "          License/Permit_Holder_Name DOB_Skilled_Trades_Lic_Num  \\\n",
       "0                    MEJIA, JAMIE E.                        NaN   \n",
       "1                     ERROL, SPENCER                        NaN   \n",
       "2                   MAKHMUDOV, MUMIN                        NaN   \n",
       "3  DELGADO-MORALES, MARDOMIO ROBERTO                        NaN   \n",
       "4                  DIAVIM, M. OSORES                        NaN   \n",
       "\n",
       "  DOB_Skilled_Trades_Lic_Type  \n",
       "0                         NaN  \n",
       "1                         NaN  \n",
       "2                         NaN  \n",
       "3                         NaN  \n",
       "4                         NaN  \n",
       "\n",
       "[5 rows x 22 columns]"
      ]
     },
     "execution_count": 2,
     "metadata": {},
     "output_type": "execute_result"
    }
   ],
   "source": [
    "pmt = pd.read_csv('DOHMH_Food_Permits.csv')\n",
    "pmt.head()"
   ]
  },
  {
   "cell_type": "code",
   "execution_count": 3,
   "metadata": {
    "scrolled": true
   },
   "outputs": [
    {
     "data": {
      "text/plain": [
       "Source                          object\n",
       "License_Permit_Holder           object\n",
       "Business_Description            object\n",
       "License/Permit_Number          float64\n",
       "Permit_Type_Description         object\n",
       "Permit_Subtype_Description      object\n",
       "Permit_Issuance_Date            object\n",
       "Permit_Expiration_Date          object\n",
       "Permit_Status_Date              object\n",
       "Permit_Status_Description       object\n",
       "Address                         object\n",
       "Street                          object\n",
       "City                            object\n",
       "Zip_Code                        object\n",
       "Borough                         object\n",
       "Building_ID_No                  object\n",
       "Borough_Block_Lot               object\n",
       "Latitude_WGS84                  object\n",
       "Longitude_WGS84                 object\n",
       "License/Permit_Holder_Name      object\n",
       "DOB_Skilled_Trades_Lic_Num      object\n",
       "DOB_Skilled_Trades_Lic_Type     object\n",
       "dtype: object"
      ]
     },
     "execution_count": 3,
     "metadata": {},
     "output_type": "execute_result"
    }
   ],
   "source": [
    "pmt.dtypes"
   ]
  },
  {
   "cell_type": "code",
   "execution_count": 5,
   "metadata": {},
   "outputs": [],
   "source": [
    "#save original variables \n",
    "pmt['Permit_Expiration_Date2'] = pmt.Permit_Expiration_Date\n",
    "pmt['Permit_Issuance_Date2'] = pmt.Permit_Issuance_Date \n"
   ]
  },
  {
   "cell_type": "code",
   "execution_count": 6,
   "metadata": {},
   "outputs": [],
   "source": [
    "#convert dates \n",
    "import datetime \n",
    "#issue \n",
    "nvalid = pmt.Permit_Issuance_Date.str.contains('[a-zA-Z]')\n",
    "pmt.Permit_Issuance_Date.loc[nvalid] = '01/01/1900 00:00:00' \n",
    "hyphens = pmt.Permit_Issuance_Date2.str.contains('-')\n",
    "pmt.loc[hyphens, 'Permit_Issuance_Date'] = (pmt[hyphens]\n",
    "                                            .Permit_Issuance_Date\n",
    "                                            .map(lambda x: datetime.datetime.strptime(x, '%Y-%m-%d')\n",
    "                                                 .strftime('%m/%d/%Y')))\n",
    "pmt.loc[hyphens==False , 'Permit_Issuance_Date' ] = (pmt[hyphens==False]\n",
    "                                                      .Permit_Issuance_Date\n",
    "                                                      .map(lambda x: datetime.datetime.strptime(x,'%m/%d/%Y %H:%M:%S')\n",
    "                                                      .strftime('%m/%d/%Y')))\n",
    "pmt.Permit_Issuance_Date  = pd.to_datetime(pmt['Permit_Issuance_Date'], format='%m/%d/%Y',\n",
    "                                             errors='coerce')\n",
    "#expiration\n",
    "nvalid = pmt.Permit_Expiration_Date.str.contains('[a-zA-Z]')\n",
    "pmt.Permit_Expiration_Date.loc[nvalid] = '01/01/1900 00:00:00' \n",
    "hyphens = pmt.Permit_Expiration_Date2.str.contains('-')\n",
    "pmt.loc[hyphens, 'Permit_Expiration_Date'] = (pmt[hyphens]\n",
    "                                              .Permit_Expiration_Date\n",
    "                                              .map(lambda x: datetime.datetime.strptime(x, '%Y-%m-%d')\n",
    "                                              .strftime('%m/%d/%Y')))\n",
    "pmt.loc[hyphens==False ,  'Permit_Expiration_Date' ] = (pmt[hyphens==False]\n",
    "                                                        .Permit_Expiration_Date\n",
    "                                                        .map(lambda x: datetime.datetime.strptime(x,'%m/%d/%Y %H:%M:%S')\n",
    "                                                        .strftime('%m/%d/%Y')))\n",
    "pmt.Permit_Expiration_Date = pd.to_datetime(pmt['Permit_Expiration_Date'], format='%m/%d/%Y',\n",
    "                                             errors='coerce')"
   ]
  },
  {
   "cell_type": "code",
   "execution_count": 7,
   "metadata": {},
   "outputs": [],
   "source": [
    "# add year variable \n",
    "pmt['exp_year'] = pmt.Permit_Expiration_Date.dt.year\n",
    "pmt['iss_year'] = pmt.Permit_Issuance_Date.dt.year"
   ]
  },
  {
   "cell_type": "code",
   "execution_count": 8,
   "metadata": {},
   "outputs": [],
   "source": [
    "#clean permit holder \n",
    "#strip punctuation: .,&#\n",
    "#remove CORP, INC, LLC, CORPORATION \n",
    "pmt['bus_name'] = (pmt.License_Permit_Holder\n",
    "                  .str.replace('[^\\w\\s]', '')\n",
    "                  .str.replace('CORPORATION', '')\n",
    "                  .str.replace('CORP', '')\n",
    "                  .str.replace('INC', '')\n",
    "                  .str.replace('LLC', '')\n",
    "                  .str.strip()\n",
    "                  .str.replace(' ', ''))\n"
   ]
  },
  {
   "cell_type": "code",
   "execution_count": 9,
   "metadata": {},
   "outputs": [],
   "source": [
    "#clean building ID \n",
    "pmt.Building_ID_No = pmt.Building_ID_No.str.strip()"
   ]
  },
  {
   "cell_type": "code",
   "execution_count": 10,
   "metadata": {},
   "outputs": [],
   "source": [
    "##remove non-restaurants \n",
    "keep = ['FOOD SERVICE EST.', 'FOOD SERVICE ESTAB', 'FOOD SERVICE ESTAB.', \n",
    "        'FOOD SERVICE ESTABL.']\n",
    "pmt = pmt[pmt.Permit_Type_Description.isin(keep)]"
   ]
  },
  {
   "cell_type": "code",
   "execution_count": 11,
   "metadata": {},
   "outputs": [
    {
     "name": "stderr",
     "output_type": "stream",
     "text": [
      "C:\\Users\\Sanata\\Anaconda3\\envs\\insight\\lib\\site-packages\\ipykernel_launcher.py:2: SettingWithCopyWarning: \n",
      "A value is trying to be set on a copy of a slice from a DataFrame.\n",
      "Try using .loc[row_indexer,col_indexer] = value instead\n",
      "\n",
      "See the caveats in the documentation: http://pandas.pydata.org/pandas-docs/stable/indexing.html#indexing-view-versus-copy\n",
      "  \n"
     ]
    }
   ],
   "source": [
    "#add street address \n",
    "pmt['street_address'] = pmt.Address + ' ' + pmt.Street"
   ]
  },
  {
   "cell_type": "markdown",
   "metadata": {},
   "source": [
    "Find all restaurants open in 2010 "
   ]
  },
  {
   "cell_type": "code",
   "execution_count": 12,
   "metadata": {},
   "outputs": [],
   "source": [
    "#year open \n",
    "year_open =  (pmt\n",
    "              .groupby(['bus_name', 'street_address'])['iss_year']\n",
    "              .min()\n",
    "              .reset_index()\n",
    "              .rename(index=str, columns = {'iss_year':'year_open'}))\n",
    "pmt = pmt.merge(year_open, on = ['bus_name', 'street_address'], how='left')\n"
   ]
  },
  {
   "cell_type": "code",
   "execution_count": 13,
   "metadata": {},
   "outputs": [],
   "source": [
    "#permit duration \n",
    "dur = pmt.exp_year - pmt.iss_year\n",
    "dur.loc[dur<0] = np.nan\n",
    "dur.loc[dur>2] = np.nan\n",
    "dur.loc[dur==0] = 1\n",
    "two_yr_license = (dur==2).rename('two_yr_license')\n",
    "pmt = pmt.join(two_yr_license)"
   ]
  },
  {
   "cell_type": "code",
   "execution_count": 14,
   "metadata": {},
   "outputs": [],
   "source": [
    "#count groupby business-location \n",
    "n_entries_listed = (pmt\n",
    "                    .groupby(['bus_name', 'street_address'])['License/Permit_Number']\n",
    "                    .size().rename('n_entries_listed')\n",
    "                    .reset_index())\n",
    "pmt = pmt.merge(n_entries_listed, on = ['bus_name', 'street_address'], how='left')"
   ]
  },
  {
   "cell_type": "code",
   "execution_count": 15,
   "metadata": {},
   "outputs": [],
   "source": [
    "#add to pmt \n",
    "pmt['n_years_open'] = pmt.n_entries_listed \n",
    "pmt.n_years_open.loc[pmt.two_yr_license] = pmt.n_entries_listed.loc[pmt.two_yr_license] *2"
   ]
  },
  {
   "cell_type": "code",
   "execution_count": 16,
   "metadata": {},
   "outputs": [
    {
     "data": {
      "image/png": "[encoded data removed]",
      "text/plain": [
       "<Figure size 432x288 with 1 Axes>"
      ]
     },
     "metadata": {
      "needs_background": "light"
     },
     "output_type": "display_data"
    }
   ],
   "source": [
    "plt.hist(pmt.n_years_open[pmt.n_years_open<=15].dropna(), bins=100)\n",
    "plt.title('Restaurant Duration, DOHMH Permits Issued 1978-2013')\n",
    "plt.xlabel('Number of years open', fontsize=15)\n",
    "plt.ylabel('Number of Request Observations', fontsize=12)\n",
    "plt.savefig('rest_duration_global.png')"
   ]
  },
  {
   "cell_type": "code",
   "execution_count": 17,
   "metadata": {},
   "outputs": [],
   "source": [
    "#year closed \n",
    "pmt['year_closed'] = pmt.year_open + pmt.n_years_open\n",
    "pmt.loc[pmt.year_open==1900, 'year_closed'] = pmt.loc[pmt.year_open==1900, 'exp_year'] + pmt.loc[pmt.year_open==1900, 'n_years_open']\n"
   ]
  },
  {
   "cell_type": "markdown",
   "metadata": {},
   "source": [
    "Find all restaurants closed AFTER 2010 (all businesses open in 2010)"
   ]
  },
  {
   "cell_type": "code",
   "execution_count": 18,
   "metadata": {},
   "outputs": [
    {
     "data": {
      "text/plain": [
       "(24574, 33)"
      ]
     },
     "execution_count": 18,
     "metadata": {},
     "output_type": "execute_result"
    }
   ],
   "source": [
    "open_2010 = pmt[pmt.year_closed>2010]\n",
    "open_2010 = open_2010[open_2010.n_years_open<=15] #keep open 15 yrs or less\n",
    "open_2010.drop_duplicates(['bus_name','street_address']).shape #24K restaurant locations open in 2010 "
   ]
  },
  {
   "cell_type": "code",
   "execution_count": 19,
   "metadata": {},
   "outputs": [
    {
     "data": {
      "image/png": "[encoded data removed]",
      "text/plain": [
       "<Figure size 432x288 with 1 Axes>"
      ]
     },
     "metadata": {
      "needs_background": "light"
     },
     "output_type": "display_data"
    }
   ],
   "source": [
    "n = open_2010.drop_duplicates(['bus_name','street_address']).groupby('year_open')['year_open'].count()\n",
    "plt.plot(n.loc[1998:])\n",
    "plt.xlabel('Year Opened', fontsize=12)\n",
    "plt.ylabel('Number of Restaurans Opened')\n",
    "plt.title('Start Year of NYC Restaurants Opening 2010-2013', fontsize=12)\n",
    "plt.savefig('rest_open_year.png')\n"
   ]
  },
  {
   "cell_type": "code",
   "execution_count": 20,
   "metadata": {},
   "outputs": [
    {
     "data": {
      "image/png": "[encoded data removed]",
      "text/plain": [
       "<Figure size 432x288 with 1 Axes>"
      ]
     },
     "metadata": {
      "needs_background": "light"
     },
     "output_type": "display_data"
    }
   ],
   "source": [
    "n = pmt.drop_duplicates(['bus_name','street_address']).groupby('year_closed')['year_closed'].count()\n",
    "plt.plot(n.loc[1998:2018])\n",
    "plt.xlabel('Year Closed', fontsize=12)\n",
    "plt.ylabel('Number of Restaurants Closed', fontsize=12)\n",
    "plt.title('NYC Restaurant Closures 1998-2018', fontsize=15)\n",
    "plt.xticks(np.arange(1998,2018), rotation=40)\n",
    "plt.savefig('rest_close_year.png')"
   ]
  },
  {
   "cell_type": "code",
   "execution_count": 21,
   "metadata": {},
   "outputs": [],
   "source": [
    "#lat/long\n",
    "check = open_2010.Latitude_WGS84.str.contains('[a-zA-Z]')\n",
    "open_2010 = open_2010[check==False]\n",
    "open_2010.Latitude_WGS84 = open_2010.Latitude_WGS84.astype('float64')\n",
    "open_2010.Longitude_WGS84 = open_2010.Longitude_WGS84.astype('float64')"
   ]
  },
  {
   "cell_type": "code",
   "execution_count": 22,
   "metadata": {},
   "outputs": [],
   "source": [
    "#fix zip code \n",
    "open_2010.Zip_Code.unique()\n",
    "open_2010.Zip_Code.loc[open_2010.Zip_Code.isnull()] = '0'\n",
    "open_2010.Zip_Code.loc[open_2010.Zip_Code=='     '] = '0'\n",
    "open_2010.Zip_Code = (open_2010.Zip_Code\n",
    "                      .astype('str')\n",
    "                      .map(lambda x: str(x)[:5])\n",
    "                      .astype('int64')\n",
    "                     )"
   ]
  },
  {
   "cell_type": "markdown",
   "metadata": {},
   "source": [
    "Identify chains, making sure to differentiate from management companies "
   ]
  },
  {
   "cell_type": "code",
   "execution_count": 33,
   "metadata": {},
   "outputs": [],
   "source": [
    "n = (open_2010\n",
    "     .groupby(['bus_name'])['street_address']\n",
    "     .count()\n",
    "     .rename('nlocs')\n",
    "     .reset_index()) "
   ]
  },
  {
   "cell_type": "code",
   "execution_count": 34,
   "metadata": {},
   "outputs": [],
   "source": [
    "open_2010 = open_2010.merge(n, on='bus_name', how='left')"
   ]
  },
  {
   "cell_type": "code",
   "execution_count": 35,
   "metadata": {},
   "outputs": [],
   "source": [
    "open_2010['is_chain'] = None \n",
    "open_2010.loc[open_2010.nlocs>=3, 'is_chain'] = 1 \n",
    "open_2010.loc[open_2010.nlocs<3, 'is_chain']= 0 "
   ]
  },
  {
   "cell_type": "markdown",
   "metadata": {},
   "source": [
    "More data cleaning and variables "
   ]
  },
  {
   "cell_type": "code",
   "execution_count": 36,
   "metadata": {},
   "outputs": [],
   "source": [
    "#BBL \n",
    "check = open_2010.Borough_Block_Lot.str.contains('[a-zA-Z]')\n",
    "open_2010.Borough_Block_Lot = open_2010.Borough_Block_Lot.astype('int64')\n"
   ]
  },
  {
   "cell_type": "code",
   "execution_count": 37,
   "metadata": {},
   "outputs": [
    {
     "name": "stderr",
     "output_type": "stream",
     "text": [
      "C:\\Users\\Sanata\\Anaconda3\\envs\\insight\\lib\\site-packages\\IPython\\core\\interactiveshell.py:3020: DtypeWarning: Columns (5,6,7,8,9,10,11,12) have mixed types. Specify dtype option on import or set low_memory=False.\n",
      "  interactivity=interactivity, compiler=compiler, result=result)\n"
     ]
    }
   ],
   "source": [
    "#add residential zone designation \n",
    "zones = pd.read_csv('NY_ZoningTaxLotDB20181221.csv')\n",
    "zones['zoning1'] = zones['Zoning District 1']\n",
    "\n",
    "zones['ztype'] = zones.zoning1.apply(lambda x: str(x)[0])\n",
    "zones.BBL = zones.BBL.astype('int64')\n",
    "\n",
    "open_2010 = open_2010.merge(zones[['BBL', 'ztype']], left_on ='Borough_Block_Lot' , right_on = 'BBL', \n",
    "                how = 'left')"
   ]
  },
  {
   "cell_type": "code",
   "execution_count": 38,
   "metadata": {},
   "outputs": [],
   "source": [
    "#add sales by zip code \n",
    "sales = pd.read_csv('restaurant_sales_zipcode.csv', skiprows=1)\n",
    "#only restaurants \n",
    "sales = sales[sales['Meaning of 2012 NAICS code']== 'Restaurants and other eating places']\n",
    "#CHECK IF ALL NYC \n",
    "sales = sales[(sales.Id2 >=10000) & (sales.Id2 <= 11697)]\n",
    "#sales['Geographic area name'].unique()\n",
    "sales.columns = ['geoid_code', 'zipcode', 'zipcode_name', 'naics_code', \n",
    "                 'naics_code_label', 'sales_range_code', 'sales_range_label', \n",
    "                 'year', 'n_estab']"
   ]
  },
  {
   "cell_type": "code",
   "execution_count": 40,
   "metadata": {},
   "outputs": [],
   "source": [
    "n_all_restaurants = sales.loc[sales.sales_range_code==2, ['zipcode', 'n_estab']]\n",
    "n_all_restaurants = n_all_restaurants.set_index(n_all_restaurants.zipcode)\n"
   ]
  },
  {
   "cell_type": "code",
   "execution_count": 41,
   "metadata": {},
   "outputs": [],
   "source": [
    "n_sales_100k = (sales\n",
    "                         .n_estab[sales.sales_range_code==114]\n",
    "                         .rename(sales.zipcode[sales.sales_range_code==114])\n",
    "                         .rename('n_sales_100k')\n",
    "                    )\n",
    "\n",
    "n_sales_250k = (sales\n",
    "                         .n_estab[sales.sales_range_code==123]\n",
    "                         .rename(sales.zipcode[sales.sales_range_code==123])\n",
    "                         .rename('n_sales_250k')\n",
    "                    )\n",
    "\n",
    "n_sales_500k = (sales\n",
    "                         .n_estab[sales.sales_range_code==125]\n",
    "                         .rename(sales.zipcode[sales.sales_range_code==125])\n",
    "                         .rename('n_sales_500k')\n",
    "                    )\n",
    "\n",
    "n_sales_999k  = (sales\n",
    "                         .n_estab[sales.sales_range_code==131]\n",
    "                         .rename(sales.zipcode[sales.sales_range_code==131])\n",
    "                         .rename('n_sales_999k')\n",
    "                    )\n",
    "\n",
    "n_sales_1m = (sales\n",
    "                         .n_estab[sales.sales_range_code==132]\n",
    "                         .rename(sales.zipcode[sales.sales_range_code==132])\n",
    "                         .rename('n_sales_1m')\n",
    "                    )\n",
    "\n",
    "\n",
    "test = n_all_restaurants.join(n_sales_100k )\n",
    "test = test.join(n_sales_250k)\n",
    "test = test.join(n_sales_500k)\n",
    "test = test.join(n_sales_999k)\n",
    "test = test.join(n_sales_1m)\n",
    "sales_dat = test.drop_duplicates('zipcode')"
   ]
  },
  {
   "cell_type": "code",
   "execution_count": 42,
   "metadata": {},
   "outputs": [],
   "source": [
    "#merge to full dataset \n",
    "open_2010 = open_2010.merge(sales_dat, left_on = 'Zip_Code' , right_on = 'zipcode', \n",
    "                how = 'left' )\n"
   ]
  },
  {
   "cell_type": "code",
   "execution_count": 44,
   "metadata": {},
   "outputs": [],
   "source": [
    "# avenue indicator \n",
    "check = open_2010.Street.str.contains('AVENUE')\n",
    "open_2010['on_avenue'] = None \n",
    "open_2010.loc[check, 'on_avenue'] = 1\n",
    "open_2010.loc[check==False, 'on_avenue'] = 0"
   ]
  },
  {
   "cell_type": "code",
   "execution_count": 45,
   "metadata": {},
   "outputs": [],
   "source": [
    "open_2010.to_pickle('all_2010_restaurants')"
   ]
  },
  {
   "cell_type": "markdown",
   "metadata": {},
   "source": [
    "Add Census Data "
   ]
  },
  {
   "cell_type": "code",
   "execution_count": 46,
   "metadata": {},
   "outputs": [],
   "source": [
    "rest_loc = pd.read_csv('C:\\\\Users\\\\Sanata\\\\Dropbox\\\\01AA_Insight Projects\\\\Restaurants\\\\restaurants_in_census_blocks.csv')\n",
    "keep_vars = ['bus_name', 'Id', 'total_block_pop', 'mean_block_income', 'tract_id',\n",
    "             'COUNTYFP10', 'TRACTCE10', 'BLKGRPCE10', 'GEOID10', 'INTPTLAT10',\n",
    "       'INTPTLON10',\n",
    "       'n_hisp', 'n_total_tract_pop', 'n_foreign_born_naturalized',\n",
    "       'n_foreign_born_not_citizen', 'n_naturalized_asia',\n",
    "       'n_naturalized_africa', 'n_naturalized_la', 'n_noncit_asia',\n",
    "       'n_noncit_africa', 'n_noncit_la', 'n_white', 'n_black', 'n_amer_ind',\n",
    "       'n_asian', 'n_pi', 'under18', '18_24', '25_34', '35-44', '45-59',\n",
    "       '60plus', 'area_sqkm', 'block_pop_dens']"
   ]
  },
  {
   "cell_type": "code",
   "execution_count": 47,
   "metadata": {},
   "outputs": [],
   "source": [
    "final = open_2010.merge(rest_loc[keep_vars], \n",
    "                        #on = ['bus_name', 'Building_ID_No'], \n",
    "                        how = 'left')"
   ]
  },
  {
   "cell_type": "markdown",
   "metadata": {},
   "source": [
    "Calculate block variables "
   ]
  },
  {
   "cell_type": "code",
   "execution_count": 48,
   "metadata": {},
   "outputs": [],
   "source": [
    "#calculate duration by census block \n",
    "yrs_by_block = final.groupby('Id')['n_years_open'].mean().reset_index().rename(index=str, columns = {'n_years_open':'block_duration'})\n",
    "final = final.merge(yrs_by_block, on = ['Id'], how = 'left' )   \n",
    "\n",
    "#calculate n_restaurants by tract\n",
    "nrest_by_tract = final.groupby('TRACTCE10')['Building_ID_No'].size().reset_index().rename(index=str, columns = {'Building_ID_No':'nrest_by_tract'})\n",
    "final = final.merge(nrest_by_tract, on = ['TRACTCE10'], how = 'left' )   \n",
    "\n",
    "#calculate n_restaurants by block\n",
    "nrest_by_block = final.groupby('Id')['Building_ID_No'].size().reset_index().rename(index=str, columns = {'Building_ID_No':'nrest_by_block'})\n",
    "final = final.merge(nrest_by_block, on = ['Id'], how = 'left' )   "
   ]
  },
  {
   "cell_type": "code",
   "execution_count": 49,
   "metadata": {},
   "outputs": [],
   "source": [
    "#AGE AND RACE \n",
    "block_ns_race = ['n_hisp', 'n_white', 'n_black',\n",
    "                    'n_amer_ind', 'n_asian', 'n_pi']\n",
    "\n",
    "block_ns_age = [ 'under18', '18_24', '25_34', '35-44',\n",
    "       '45-59', '60plus']\n",
    "\n",
    "final['total_race_pop'] = final[block_ns_race].sum(axis=1)\n",
    "final['total_age_pop'] = final[block_ns_age].sum(axis=1)\n",
    "\n",
    "get_pct = final[block_ns_race].divide(final.total_race_pop, 'index')\n",
    "get_pct.columns = ['pct_hisp', 'pct_white', 'pct_black', 'pct_amerind', \n",
    "                   'pct_asian', 'pct_pi']\n",
    "final = final.join(get_pct)\n",
    "\n",
    "get_pct = final[block_ns_age].divide(final.total_age_pop, 'index')\n",
    "get_pct.columns = ['pct_under18', 'pct_18_24', \n",
    "                   'pct_25_34', 'pct_35_44', 'pct_45_59', 'pct_60plus']\n",
    "final = final.join(get_pct)"
   ]
  },
  {
   "cell_type": "code",
   "execution_count": 50,
   "metadata": {},
   "outputs": [],
   "source": [
    "#add borough dummies \n",
    "t = pd.get_dummies(final.Borough)\n",
    "final = final.join(t)\n",
    "\n",
    "#add number of chains by block \n",
    "chains_by_block = final.groupby('Id')['is_chain'].sum().reset_index().rename(index=str, columns = {'is_chain':'chains_by_block'})\n",
    "final = final.merge(chains_by_block, on = ['Id'], how = 'left' )   \n"
   ]
  },
  {
   "cell_type": "code",
   "execution_count": 51,
   "metadata": {},
   "outputs": [],
   "source": [
    "#add sales \n",
    "sales_pct = sales_dat.iloc[:, 2:7].divide(sales_dat.n_estab, 'index').reset_index().rename(index=str, columns = {'index':'zipcode'})\n",
    "final = final.merge(sales_pct, left_on='Zip_Code', right_on='zipcode', how='left')\n",
    "\n",
    "#change income \n",
    "medinc = pd.read_csv('C:\\\\Users\\\\Sanata\\\\Dropbox\\\\01AA_Insight Projects\\\\Restaurants\\\\population data\\\\med_block_income.csv')\n",
    "medinc.med_block_income = medinc.med_block_income.str.replace('[^\\w\\s]', '').astype('float64')\n",
    "final = final.merge(medinc[['Id', 'med_block_income']], on = 'Id')\n",
    "\n",
    "#dummies for zone type \n",
    "d = pd.get_dummies(final.ztype, prefix='ztype_', drop_first=True)\n",
    "final = final.join(d[['ztype__C', 'ztype__R']])\n",
    "\n"
   ]
  },
  {
   "cell_type": "code",
   "execution_count": 54,
   "metadata": {},
   "outputs": [],
   "source": [
    "# ADD 500 ft buffer variables \n",
    "buffers = pd.read_csv('restaurants_buffer.csv', usecols = [1, 2, 3, 4 ])\n",
    "buffers.Building_ID_No = buffers.Building_ID_No.astype('O')"
   ]
  },
  {
   "cell_type": "code",
   "execution_count": 55,
   "metadata": {},
   "outputs": [
    {
     "data": {
      "text/html": [
       "<div>\n",
       "<style scoped>\n",
       "    .dataframe tbody tr th:only-of-type {\n",
       "        vertical-align: middle;\n",
       "    }\n",
       "\n",
       "    .dataframe tbody tr th {\n",
       "        vertical-align: top;\n",
       "    }\n",
       "\n",
       "    .dataframe thead th {\n",
       "        text-align: right;\n",
       "    }\n",
       "</style>\n",
       "<table border=\"1\" class=\"dataframe\">\n",
       "  <thead>\n",
       "    <tr style=\"text-align: right;\">\n",
       "      <th></th>\n",
       "      <th>bus_name</th>\n",
       "      <th>Building_ID_No</th>\n",
       "      <th>n_restaurants_500</th>\n",
       "      <th>n_subway_ent</th>\n",
       "    </tr>\n",
       "  </thead>\n",
       "  <tbody>\n",
       "    <tr>\n",
       "      <th>0</th>\n",
       "      <td>1 AGUAPANELAS</td>\n",
       "      <td>4064657</td>\n",
       "      <td>7</td>\n",
       "      <td>3.0</td>\n",
       "    </tr>\n",
       "    <tr>\n",
       "      <th>1</th>\n",
       "      <td>1 CHIMI SUSHI</td>\n",
       "      <td>1019865</td>\n",
       "      <td>17</td>\n",
       "      <td>0.0</td>\n",
       "    </tr>\n",
       "    <tr>\n",
       "      <th>2</th>\n",
       "      <td>1 EAST 66TH STREET</td>\n",
       "      <td>1041159</td>\n",
       "      <td>5</td>\n",
       "      <td>0.0</td>\n",
       "    </tr>\n",
       "    <tr>\n",
       "      <th>3</th>\n",
       "      <td>1 PANDA</td>\n",
       "      <td>1017884</td>\n",
       "      <td>8</td>\n",
       "      <td>0.0</td>\n",
       "    </tr>\n",
       "    <tr>\n",
       "      <th>4</th>\n",
       "      <td>1 PERRY ST RESTAURANT</td>\n",
       "      <td>1010939</td>\n",
       "      <td>12</td>\n",
       "      <td>0.0</td>\n",
       "    </tr>\n",
       "  </tbody>\n",
       "</table>\n",
       "</div>"
      ],
      "text/plain": [
       "                bus_name  Building_ID_No  n_restaurants_500  n_subway_ent\n",
       "0          1 AGUAPANELAS         4064657                  7           3.0\n",
       "1          1 CHIMI SUSHI         1019865                 17           0.0\n",
       "2     1 EAST 66TH STREET         1041159                  5           0.0\n",
       "3                1 PANDA         1017884                  8           0.0\n",
       "4  1 PERRY ST RESTAURANT         1010939                 12           0.0"
      ]
     },
     "execution_count": 55,
     "metadata": {},
     "output_type": "execute_result"
    }
   ],
   "source": [
    "buffers.head()"
   ]
  },
  {
   "cell_type": "code",
   "execution_count": 62,
   "metadata": {},
   "outputs": [],
   "source": [
    "final = final.merge(buffers, on = ['bus_name', 'Building_ID_No'], how='left')\n"
   ]
  },
  {
   "cell_type": "code",
   "execution_count": 63,
   "metadata": {},
   "outputs": [],
   "source": [
    "final['subway500'] = None \n",
    "final.loc[final.n_subway_ent>0, 'subway500'] = 1\n",
    "final.loc[final.n_subway_ent==0, 'subway500'] = 0"
   ]
  },
  {
   "cell_type": "code",
   "execution_count": 64,
   "metadata": {},
   "outputs": [],
   "source": [
    "### SAVE FINAL DATASET ### \n",
    "final.to_pickle('C:\\\\Users\\\\Sanata\\\\Dropbox\\\\01AA_Insight Projects\\\\Restaurants\\\\restaurant_final_data_v2')"
   ]
  },
  {
   "cell_type": "code",
   "execution_count": null,
   "metadata": {},
   "outputs": [],
   "source": []
  }
 ],
 "metadata": {
  "kernelspec": {
   "display_name": "Python 3",
   "language": "python",
   "name": "python3"
  },
  "language_info": {
   "codemirror_mode": {
    "name": "ipython",
    "version": 3
   },
   "file_extension": ".py",
   "mimetype": "text/x-python",
   "name": "python",
   "nbconvert_exporter": "python",
   "pygments_lexer": "ipython3",
   "version": "3.7.2"
  }
 },
 "nbformat": 4,
 "nbformat_minor": 2
}
